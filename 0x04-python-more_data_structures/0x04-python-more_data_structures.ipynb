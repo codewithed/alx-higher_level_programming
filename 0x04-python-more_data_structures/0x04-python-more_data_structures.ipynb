{
 "cells": [
  {
   "cell_type": "code",
   "execution_count": 1,
   "metadata": {},
   "outputs": [],
   "source": [
    "from task import Task"
   ]
  },
  {
   "cell_type": "code",
   "execution_count": 2,
   "metadata": {},
   "outputs": [],
   "source": [
    "tasks = {}"
   ]
  },
  {
   "cell_type": "markdown",
   "metadata": {},
   "source": [
    "## 0. Squared simple\n",
    "\n",
    "Write a function that computes the square value of all integers of a matrix.\n",
    "\n",
    "`square_matrix_simple(matrix=[])`\n",
    "\n",
    "* matrix is a 2 dimensional array\n",
    "* Returns a new matrix:\n",
    "* Same size as matrix\n",
    "* Each value should be the square of the value of the input\n",
    "* Initial matrix should not be modified\n",
    "* You are not allowed to import any module\n",
    "* You are allowed to use regular loops, map, etc."
   ]
  },
  {
   "cell_type": "code",
   "execution_count": 14,
   "metadata": {
    "scrolled": true
   },
   "outputs": [],
   "source": [
    "def square_matrix_simple(matrix=[]):\n",
    "    \"\"\" Compute a new matrix with each element squared\n",
    "    \"\"\"\n",
    "    if matrix is not None:\n",
    "        return list(map(\n",
    "            lambda row: list(map(\n",
    "                lambda x: x ** 2, row\n",
    "            )),\n",
    "            matrix\n",
    "        ))\n",
    "    return None"
   ]
  },
  {
   "cell_type": "code",
   "execution_count": 15,
   "metadata": {},
   "outputs": [],
   "source": [
    "def main():\n",
    "    matrix = [\n",
    "        [1, 2, 3],\n",
    "        [4, 5, 6],\n",
    "        [7, 8, 9]\n",
    "    ]\n",
    "    \n",
    "    new_matrix = square_matrix_simple(matrix)\n",
    "    print(new_matrix)\n",
    "    print(matrix)"
   ]
  },
  {
   "cell_type": "code",
   "execution_count": 16,
   "metadata": {},
   "outputs": [],
   "source": [
    "tasks[0] = Task(square_matrix_simple, main=main)"
   ]
  },
  {
   "cell_type": "code",
   "execution_count": 17,
   "metadata": {},
   "outputs": [
    {
     "name": "stdout",
     "output_type": "stream",
     "text": [
      "[[1, 4, 9], [16, 25, 36], [49, 64, 81]]\n",
      "[[1, 2, 3], [4, 5, 6], [7, 8, 9]]\n"
     ]
    }
   ],
   "source": [
    "tasks[0]()"
   ]
  },
  {
   "cell_type": "markdown",
   "metadata": {},
   "source": [
    "## 1. Search and replace\n",
    "\n",
    "Write a function that replaces all occurrences of an element by another in a new list.\n",
    "\n",
    "`search_replace(my_list, search, replace)`\n",
    "\n",
    "* my_list is the initial list\n",
    "* search is the element to replace in the list\n",
    "* replace is the new element\n",
    "* You are not allowed to import any module"
   ]
  },
  {
   "cell_type": "code",
   "execution_count": 18,
   "metadata": {},
   "outputs": [],
   "source": [
    "def search_replace(my_list, search, replace):\n",
    "    \"\"\" Create a new list with all occurrences of an element replaced\n",
    "    \"\"\"\n",
    "    if my_list is not None:\n",
    "        return [x if x != search else replace for x in my_list]\n",
    "    return None"
   ]
  },
  {
   "cell_type": "code",
   "execution_count": 19,
   "metadata": {},
   "outputs": [],
   "source": [
    "def main():\n",
    "    my_list = [1, 2, 3, 4, 5, 4, 2, 1, 1, 4, 89]\n",
    "    new_list = search_replace(my_list, 2, 89)\n",
    "\n",
    "    print(new_list)\n",
    "    print(my_list)"
   ]
  },
  {
   "cell_type": "code",
   "execution_count": 20,
   "metadata": {},
   "outputs": [],
   "source": [
    "tasks[1] = Task(search_replace, main=main)"
   ]
  },
  {
   "cell_type": "code",
   "execution_count": 21,
   "metadata": {},
   "outputs": [
    {
     "name": "stdout",
     "output_type": "stream",
     "text": [
      "[1, 89, 3, 4, 5, 4, 89, 1, 1, 4, 89]\n",
      "[1, 2, 3, 4, 5, 4, 2, 1, 1, 4, 89]\n"
     ]
    }
   ],
   "source": [
    "tasks[1]()"
   ]
  },
  {
   "cell_type": "markdown",
   "metadata": {},
   "source": [
    "## 2. Unique addition\n",
    "\n",
    "Write a function that adds all unique integers in a list (only once for each integer).\n",
    "\n",
    "`uniq_add(my_list=[])`\n",
    "\n",
    "* You are not allowed to import any module"
   ]
  },
  {
   "cell_type": "code",
   "execution_count": 23,
   "metadata": {},
   "outputs": [],
   "source": [
    "def uniq_add(my_list=[]):\n",
    "    \"\"\" Sum all unique integers in a list\n",
    "    \"\"\"\n",
    "    if my_list is not None:\n",
    "        return sum(set(my_list))\n",
    "    return None"
   ]
  },
  {
   "cell_type": "code",
   "execution_count": 24,
   "metadata": {},
   "outputs": [],
   "source": [
    "def main():\n",
    "    my_list = [1, 2, 3, 1, 4, 2, 5]\n",
    "    result = uniq_add(my_list)\n",
    "    print(\"Result: {:d}\".format(result))"
   ]
  },
  {
   "cell_type": "code",
   "execution_count": 25,
   "metadata": {},
   "outputs": [],
   "source": [
    "tasks[2] = Task(uniq_add, main=main)"
   ]
  },
  {
   "cell_type": "code",
   "execution_count": 26,
   "metadata": {
    "scrolled": true
   },
   "outputs": [
    {
     "name": "stdout",
     "output_type": "stream",
     "text": [
      "Result: 15\n"
     ]
    }
   ],
   "source": [
    "tasks[2]()"
   ]
  },
  {
   "cell_type": "markdown",
   "metadata": {},
   "source": [
    "## 3. Present in both\n",
    "\n",
    "Write a function that returns a set of common elements in two sets.\n",
    "\n",
    "`common_elements(set_1, set_2)`\n",
    "\n",
    "* You are not allowed to import any module"
   ]
  },
  {
   "cell_type": "code",
   "execution_count": 283,
   "metadata": {},
   "outputs": [],
   "source": [
    "def common_elements(set_1, set_2):\n",
    "    \"\"\" Print the elements common to two sets (i.e. union)\n",
    "    \"\"\"\n",
    "    if set_1 is not None and set_2 is not None:\n",
    "        return set(set_1) & set(set_2)\n",
    "    return None"
   ]
  },
  {
   "cell_type": "code",
   "execution_count": 284,
   "metadata": {},
   "outputs": [],
   "source": [
    "def main():\n",
    "    set_1 = { \"Python\", \"C\", \"Javascript\" }\n",
    "    set_2 = { \"Bash\", \"C\", \"Ruby\", \"Perl\" }\n",
    "    c_set = common_elements(set_1, set_2)\n",
    "    print(sorted(list(c_set)))"
   ]
  },
  {
   "cell_type": "code",
   "execution_count": 285,
   "metadata": {},
   "outputs": [],
   "source": [
    "tasks[3] = Task(common_elements, main=main)"
   ]
  },
  {
   "cell_type": "code",
   "execution_count": 286,
   "metadata": {},
   "outputs": [
    {
     "name": "stdout",
     "output_type": "stream",
     "text": [
      "['C']\n"
     ]
    }
   ],
   "source": [
    "tasks[3]()"
   ]
  },
  {
   "cell_type": "markdown",
   "metadata": {},
   "source": [
    "## 4. Only differents\n",
    "\n",
    "Write a function that returns a set of all elements present in only one set.\n",
    "\n",
    "`only_diff_elements(set_1, set_2)`\n",
    "\n",
    "* You are not allowed to import any module"
   ]
  },
  {
   "cell_type": "code",
   "execution_count": 287,
   "metadata": {},
   "outputs": [],
   "source": [
    "def only_diff_elements(set_1, set_2):\n",
    "    \"\"\" Print the elements unique to each set (i.e. disjoint union)\n",
    "    \"\"\"\n",
    "    if set_1 is not None and set_2 is not None:\n",
    "        return set(set_1) ^ set(set_2)\n",
    "    return None"
   ]
  },
  {
   "cell_type": "code",
   "execution_count": 288,
   "metadata": {},
   "outputs": [],
   "source": [
    "def main():\n",
    "    set_1 = { \"Python\", \"C\", \"Javascript\" }\n",
    "    set_2 = { \"Bash\", \"C\", \"Ruby\", \"Perl\" }\n",
    "    od_set = only_diff_elements(set_1, set_2)\n",
    "    print(sorted(list(od_set)))"
   ]
  },
  {
   "cell_type": "code",
   "execution_count": 289,
   "metadata": {},
   "outputs": [],
   "source": [
    "tasks[4] = Task(only_diff_elements, main=main)"
   ]
  },
  {
   "cell_type": "code",
   "execution_count": 290,
   "metadata": {},
   "outputs": [
    {
     "name": "stdout",
     "output_type": "stream",
     "text": [
      "['Bash', 'Javascript', 'Perl', 'Python', 'Ruby']\n"
     ]
    }
   ],
   "source": [
    "tasks[4]()"
   ]
  },
  {
   "cell_type": "markdown",
   "metadata": {},
   "source": [
    "## 5. Number of keys\n",
    "\n",
    "Write a function that returns the number of keys in a dictionary.\n",
    "\n",
    "`number_keys(a_dictionary)`\n",
    "\n",
    "* You are not allowed to import any module"
   ]
  },
  {
   "cell_type": "code",
   "execution_count": 27,
   "metadata": {},
   "outputs": [],
   "source": [
    "def number_keys(a_dictionary):\n",
    "    \"\"\" Compute the number of keys in a dictionary\n",
    "    \"\"\"\n",
    "    if a_dictionary is not None:\n",
    "        return len(a_dictionary)\n",
    "    return None"
   ]
  },
  {
   "cell_type": "code",
   "execution_count": 28,
   "metadata": {},
   "outputs": [],
   "source": [
    "def main():\n",
    "    a_dictionary = { 'language': \"C\", 'number': 13, 'track': \"Low level\" }\n",
    "    nb_keys = number_keys(a_dictionary)\n",
    "    print(\"Number of keys: {:d}\".format(nb_keys))"
   ]
  },
  {
   "cell_type": "code",
   "execution_count": 29,
   "metadata": {},
   "outputs": [],
   "source": [
    "tasks[5] = Task(number_keys, main=main)"
   ]
  },
  {
   "cell_type": "code",
   "execution_count": 30,
   "metadata": {
    "scrolled": true
   },
   "outputs": [
    {
     "name": "stdout",
     "output_type": "stream",
     "text": [
      "Number of keys: 3\n"
     ]
    }
   ],
   "source": [
    "tasks[5]()"
   ]
  },
  {
   "cell_type": "markdown",
   "metadata": {},
   "source": [
    "## 6. Print sorted dictionary\n",
    "\n",
    "Write a function that prints a dictionary by ordered keys.\n",
    "\n",
    "`print_sorted_dictionary(a_dictionary)`\n",
    "\n",
    "* You can assume that all keys are strings\n",
    "* Keys should be sorted by alphabetic order\n",
    "* Only sort keys of the first level (don’t sort keys of a dictionary inside the main * dictionary)\n",
    "* Dictionary values can have any type\n",
    "* You are not allowed to import any module"
   ]
  },
  {
   "cell_type": "code",
   "execution_count": 31,
   "metadata": {},
   "outputs": [],
   "source": [
    "def print_sorted_dictionary(a_dictionary):\n",
    "    \"\"\" Print the entries in a dictionary sorted by key\n",
    "    \"\"\"\n",
    "    if a_dictionary is not None:\n",
    "        for pair in sorted(a_dictionary.items(), key=lambda key,*_: key):\n",
    "            print('{}: {}'.format(*pair))"
   ]
  },
  {
   "cell_type": "code",
   "execution_count": 32,
   "metadata": {},
   "outputs": [],
   "source": [
    "def main():\n",
    "    a_dictionary = { 'language': \"C\", 'Number': 89, 'track': \"Low level\", 'ids': [1, 2, 3] }\n",
    "    print_sorted_dictionary(a_dictionary)"
   ]
  },
  {
   "cell_type": "code",
   "execution_count": 33,
   "metadata": {},
   "outputs": [],
   "source": [
    "tasks[6] = Task(print_sorted_dictionary, main=main)"
   ]
  },
  {
   "cell_type": "code",
   "execution_count": 34,
   "metadata": {},
   "outputs": [
    {
     "name": "stdout",
     "output_type": "stream",
     "text": [
      "Number: 89\n",
      "ids: [1, 2, 3]\n",
      "language: C\n",
      "track: Low level\n"
     ]
    }
   ],
   "source": [
    "tasks[6]()"
   ]
  },
  {
   "cell_type": "markdown",
   "metadata": {},
   "source": [
    "## 7. Update dictionary\n",
    "\n",
    "Write a function that replaces or adds key/value in a dictionary.\n",
    "\n",
    "`update_dictionary(a_dictionary, key, value)`\n",
    "\n",
    "* key argument will be always a string\n",
    "* value argument will be any type\n",
    "* If a key exists in the dictionary, the value will be replaced\n",
    "* If a key doesn’t exist in the dictionary, it will be created\n",
    "* You are not allowed to import any module"
   ]
  },
  {
   "cell_type": "code",
   "execution_count": 35,
   "metadata": {},
   "outputs": [],
   "source": [
    "def update_dictionary(a_dictionary, key, value):\n",
    "    \"\"\" Add or update a value a dictionary entry\n",
    "    \"\"\"\n",
    "    if a_dictionary is not None:\n",
    "        a_dictionary[key] = value\n",
    "    return a_dictionary"
   ]
  },
  {
   "cell_type": "code",
   "execution_count": 36,
   "metadata": {},
   "outputs": [],
   "source": [
    "def main():\n",
    "    a_dictionary = { 'language': \"C\", 'number': 89, 'track': \"Low level\" }\n",
    "    new_dict = update_dictionary(a_dictionary, 'language', \"Python\")\n",
    "    print_sorted_dictionary(new_dict)\n",
    "    print(\"--\")\n",
    "    print_sorted_dictionary(a_dictionary)\n",
    "\n",
    "    print(\"--\")\n",
    "    print(\"--\")\n",
    "\n",
    "    new_dict = update_dictionary(a_dictionary, 'city', \"San Francisco\")\n",
    "    print_sorted_dictionary(new_dict)\n",
    "    print(\"--\")\n",
    "    print_sorted_dictionary(a_dictionary)"
   ]
  },
  {
   "cell_type": "code",
   "execution_count": 37,
   "metadata": {},
   "outputs": [],
   "source": [
    "tasks[7] = Task(update_dictionary, main=main)"
   ]
  },
  {
   "cell_type": "code",
   "execution_count": 38,
   "metadata": {},
   "outputs": [
    {
     "name": "stdout",
     "output_type": "stream",
     "text": [
      "language: Python\n",
      "number: 89\n",
      "track: Low level\n",
      "--\n",
      "language: Python\n",
      "number: 89\n",
      "track: Low level\n",
      "--\n",
      "--\n",
      "city: San Francisco\n",
      "language: Python\n",
      "number: 89\n",
      "track: Low level\n",
      "--\n",
      "city: San Francisco\n",
      "language: Python\n",
      "number: 89\n",
      "track: Low level\n"
     ]
    }
   ],
   "source": [
    "tasks[7]()"
   ]
  },
  {
   "cell_type": "markdown",
   "metadata": {},
   "source": [
    "## 8. Simple delete by key\n",
    "\n",
    "Write a function that deletes a key in a dictionary.\n",
    "\n",
    "`simple_delete(a_dictionary, key=\"\")`\n",
    "\n",
    "* key argument will be always a string\n",
    "* If a key doesn’t exist, the dictionary won’t change\n",
    "* You are not allowed to import any module"
   ]
  },
  {
   "cell_type": "code",
   "execution_count": 303,
   "metadata": {},
   "outputs": [],
   "source": [
    "def simple_delete(a_dictionary, key=\"\"):\n",
    "    \"\"\" Delete a dictionary entry\n",
    "    \"\"\"\n",
    "    if a_dictionary is not None:\n",
    "        try:\n",
    "            del a_dictionary[key]\n",
    "        except KeyError:\n",
    "            pass\n",
    "        return a_dictionary\n",
    "    return None"
   ]
  },
  {
   "cell_type": "code",
   "execution_count": 304,
   "metadata": {},
   "outputs": [],
   "source": [
    "def main():\n",
    "    a_dictionary = { 'language': \"C\", 'Number': 89, 'track': \"Low\", 'ids': [1, 2, 3] }\n",
    "    new_dict = simple_delete(a_dictionary, 'track')\n",
    "    print_sorted_dictionary(a_dictionary)\n",
    "    print(\"--\")\n",
    "    print_sorted_dictionary(new_dict)\n",
    "\n",
    "    print(\"--\")\n",
    "    print(\"--\")\n",
    "    new_dict = simple_delete(a_dictionary, 'c_is_fun')\n",
    "    print_sorted_dictionary(a_dictionary)\n",
    "    print(\"--\")\n",
    "    print_sorted_dictionary(new_dict)"
   ]
  },
  {
   "cell_type": "code",
   "execution_count": 305,
   "metadata": {},
   "outputs": [],
   "source": [
    "tasks[8] = Task(simple_delete, main=main)"
   ]
  },
  {
   "cell_type": "code",
   "execution_count": 306,
   "metadata": {},
   "outputs": [
    {
     "name": "stdout",
     "output_type": "stream",
     "text": [
      "Number: 89\n",
      "ids: [1, 2, 3]\n",
      "language: C\n",
      "--\n",
      "Number: 89\n",
      "ids: [1, 2, 3]\n",
      "language: C\n",
      "--\n",
      "--\n",
      "Number: 89\n",
      "ids: [1, 2, 3]\n",
      "language: C\n",
      "--\n",
      "Number: 89\n",
      "ids: [1, 2, 3]\n",
      "language: C\n"
     ]
    }
   ],
   "source": [
    "tasks[8]()"
   ]
  },
  {
   "cell_type": "markdown",
   "metadata": {},
   "source": [
    "## 9. Multiply by 2\n",
    "\n",
    "Write a function that returns a new dictionary with all values multiplied by 2.\n",
    "\n",
    "`multiply_by_2(a_dictionary)`\n",
    "\n",
    "* You can assume that all values are only integers\n",
    "* Returns a new dictionary\n",
    "* You are not allowed to import any module"
   ]
  },
  {
   "cell_type": "code",
   "execution_count": 39,
   "metadata": {},
   "outputs": [],
   "source": [
    "def multiply_by_2(a_dictionary):\n",
    "    \"\"\" Create a new dictionary with all values doubled\n",
    "    \"\"\"\n",
    "    if a_dictionary is not None:\n",
    "        return {key: 2 * val for key, val in a_dictionary.items()}\n",
    "    return None"
   ]
  },
  {
   "cell_type": "code",
   "execution_count": 40,
   "metadata": {},
   "outputs": [],
   "source": [
    "def main():\n",
    "    a_dictionary = {'John': 12, 'Alex': 8, 'Bob': 14, 'Mike': 14, 'Molly': 16}\n",
    "    new_dict = multiply_by_2(a_dictionary)\n",
    "    print_sorted_dictionary(a_dictionary)\n",
    "    print(\"--\")\n",
    "    print_sorted_dictionary(new_dict)"
   ]
  },
  {
   "cell_type": "code",
   "execution_count": 41,
   "metadata": {},
   "outputs": [],
   "source": [
    "tasks[9] = Task(multiply_by_2, main=main)"
   ]
  },
  {
   "cell_type": "code",
   "execution_count": 42,
   "metadata": {
    "scrolled": true
   },
   "outputs": [
    {
     "name": "stdout",
     "output_type": "stream",
     "text": [
      "Alex: 8\n",
      "Bob: 14\n",
      "John: 12\n",
      "Mike: 14\n",
      "Molly: 16\n",
      "--\n",
      "Alex: 16\n",
      "Bob: 28\n",
      "John: 24\n",
      "Mike: 28\n",
      "Molly: 32\n"
     ]
    }
   ],
   "source": [
    "tasks[9]()"
   ]
  },
  {
   "cell_type": "markdown",
   "metadata": {},
   "source": [
    "## 10. Best score\n",
    "\n",
    "Write a function that returns a key with the biggest integer value.\n",
    "\n",
    "`best_score(a_dictionary)`\n",
    "\n",
    "* You can assume that all values are only integers\n",
    "* If no score found, return None\n",
    "* You can assume all students have a different score\n",
    "* You are not allowed to import any module"
   ]
  },
  {
   "cell_type": "code",
   "execution_count": 66,
   "metadata": {},
   "outputs": [],
   "source": [
    "def best_score(a_dictionary):\n",
    "    \"\"\" Retrieve the a key of the largest integer value\n",
    "    \"\"\"\n",
    "    if a_dictionary:\n",
    "        return max(a_dictionary.items(), key=lambda pair: pair[1], default=None)['']\n",
    "    return None"
   ]
  },
  {
   "cell_type": "code",
   "execution_count": 67,
   "metadata": {},
   "outputs": [],
   "source": [
    "def main():\n",
    "    a_dictionary = {'John': 12, 'Bob': 14, 'Mike': 14, 'Molly': 16, 'Adam': 10}\n",
    "    best_key = best_score(a_dictionary)\n",
    "    print(\"Best score: {}\".format(best_key))\n",
    "\n",
    "    best_key = best_score([])\n",
    "    print(\"Best score: {}\".format(best_key))\n",
    "\n",
    "    best_key = best_score(None)\n",
    "    print(\"Best score: {}\".format(best_key))"
   ]
  },
  {
   "cell_type": "code",
   "execution_count": 68,
   "metadata": {},
   "outputs": [],
   "source": [
    "tasks[10] = Task(best_score, main=main)"
   ]
  },
  {
   "cell_type": "code",
   "execution_count": 69,
   "metadata": {
    "scrolled": false
   },
   "outputs": [
    {
     "name": "stdout",
     "output_type": "stream",
     "text": [
      "Best score: ('Molly', 16)\n",
      "Best score: None\n",
      "Best score: None\n"
     ]
    }
   ],
   "source": [
    "tasks[10]()"
   ]
  },
  {
   "cell_type": "markdown",
   "metadata": {},
   "source": [
    "## 11. Multiply by using map\n",
    "\n",
    "Write a function that returns a list with all values multiplied by a number without using any loops.\n",
    "\n",
    "`mutiply_list_map(my_list=[], number=0)`\n",
    "\n",
    "* Returns a new list:\n",
    "* Same length as my_list\n",
    "* Each value should be multiplied by number\n",
    "* Initial list should not be modified\n",
    "* You are not allowed to import any module\n",
    "* You have to use map\n",
    "* Your file should be max 3 lines"
   ]
  },
  {
   "cell_type": "code",
   "execution_count": 47,
   "metadata": {},
   "outputs": [],
   "source": [
    "def mutiply_list_map(my_list=[], number=0):\n",
    "    \"\"\" Create a list of the product each elements and the given number  \"\"\"\n",
    "    return None if list is None else list(map(lambda x: x * number, my_list))"
   ]
  },
  {
   "cell_type": "code",
   "execution_count": 48,
   "metadata": {},
   "outputs": [],
   "source": [
    "def main():\n",
    "    my_list = [1, 2, 3, 4, 6]\n",
    "    new_list = mutiply_list_map(my_list, 4)\n",
    "    print(new_list)\n",
    "    print(my_list)"
   ]
  },
  {
   "cell_type": "code",
   "execution_count": 49,
   "metadata": {},
   "outputs": [],
   "source": [
    "tasks[11] = Task(mutiply_list_map, main=main)"
   ]
  },
  {
   "cell_type": "code",
   "execution_count": 50,
   "metadata": {
    "scrolled": false
   },
   "outputs": [
    {
     "name": "stdout",
     "output_type": "stream",
     "text": [
      "[4, 8, 12, 16, 24]\n",
      "[1, 2, 3, 4, 6]\n"
     ]
    }
   ],
   "source": [
    "tasks[11]()"
   ]
  }
 ],
 "metadata": {
  "kernelspec": {
   "display_name": "Python 3",
   "language": "python",
   "name": "python3"
  },
  "language_info": {
   "codemirror_mode": {
    "name": "ipython",
    "version": 3
   },
   "file_extension": ".py",
   "mimetype": "text/x-python",
   "name": "python",
   "nbconvert_exporter": "python",
   "pygments_lexer": "ipython3",
   "version": "3.7.3"
  }
 },
 "nbformat": 4,
 "nbformat_minor": 2
}
