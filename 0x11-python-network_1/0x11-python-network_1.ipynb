{
 "cells": [
  {
   "cell_type": "code",
   "execution_count": 27,
   "metadata": {},
   "outputs": [],
   "source": [
    "import requests"
   ]
  },
  {
   "cell_type": "code",
   "execution_count": 45,
   "metadata": {},
   "outputs": [],
   "source": [
    "url = 'https://api.github.com/repos/rails/rails/commits'"
   ]
  },
  {
   "cell_type": "code",
   "execution_count": 46,
   "metadata": {},
   "outputs": [],
   "source": [
    "response = requests.get(url)"
   ]
  },
  {
   "cell_type": "code",
   "execution_count": 51,
   "metadata": {},
   "outputs": [],
   "source": [
    "results = response.json()"
   ]
  },
  {
   "cell_type": "code",
   "execution_count": 56,
   "metadata": {},
   "outputs": [
    {
     "name": "stdout",
     "output_type": "stream",
     "text": [
      "5371d5dcf26f5a5321471517531f36defa114e68: John Hawthorn\n",
      "0399be70766d7c6bf46d727ef2e337ff40f242b4: Ryuta Kamizono\n",
      "a8ab5ff499080a4a4c125df949dfcee6e84e4c99: John Hawthorn\n",
      "164069fd2dc2bb3cf294d74722a7c4c0155f08e1: Ryuta Kamizono\n",
      "f891a8d7d43eb3e66f65f5d74217133b713967c4: John Hawthorn\n",
      "268a099b1b8ad6aa58e52a100d4201f253663feb: John Hawthorn\n",
      "8c71793b3b25740d15c6e078dfd452edecd88fd0: Gannon McGibbon\n",
      "cdc3dce724b4d2ee23444a232ce82c5e10224416: Eileen M. Uchitelle\n",
      "f971ce5daf096e245d641d3e3ca0cc29a6c35046: Ryuta Kamizono\n",
      "e4c035a8fb39e00522ad771415c62fffc94383c5: Kevin Deisz\n"
     ]
    }
   ],
   "source": [
    "for result in results[:10]:\n",
    "    print('{}: {}'.format(result['sha'], result['commit']['author']['name']))"
   ]
  },
  {
   "cell_type": "code",
   "execution_count": null,
   "metadata": {},
   "outputs": [],
   "source": [
    "requests.post()"
   ]
  }
 ],
 "metadata": {
  "kernelspec": {
   "display_name": "Python 3",
   "language": "python",
   "name": "python3"
  },
  "language_info": {
   "codemirror_mode": {
    "name": "ipython",
    "version": 3
   },
   "file_extension": ".py",
   "mimetype": "text/x-python",
   "name": "python",
   "nbconvert_exporter": "python",
   "pygments_lexer": "ipython3",
   "version": "3.7.3"
  }
 },
 "nbformat": 4,
 "nbformat_minor": 2
}
